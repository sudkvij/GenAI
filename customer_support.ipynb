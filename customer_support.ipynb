{
 "cells": [
  {
   "cell_type": "code",
   "execution_count": null,
   "id": "e6effb38-e11b-4b8c-a79c-d01b38a0a255",
   "metadata": {},
   "outputs": [],
   "source": [
    "import warnings\n",
    "warnings.filterwarnings('ignore')"
   ]
  },
  {
   "cell_type": "code",
   "execution_count": null,
   "id": "be9cb333-59e5-4038-af56-3a5f747ee6d4",
   "metadata": {},
   "outputs": [],
   "source": [
    "from crewai import Agent, Task, Crew"
   ]
  },
  {
   "cell_type": "code",
   "execution_count": null,
   "id": "0596f0ca-463d-4818-89fd-6c540073481d",
   "metadata": {},
   "outputs": [],
   "source": [
    "import os"
   ]
  },
  {
   "cell_type": "code",
   "execution_count": null,
   "id": "30d788ca-deec-4669-a7dd-3d147d19c93d",
   "metadata": {},
   "outputs": [],
   "source": [
    "from dotenv import load_dotenv\n",
    "load_dotenv(override=True)\n",
    "api_key = os.getenv('OPENAI_API_KEY')"
   ]
  },
  {
   "cell_type": "code",
   "execution_count": null,
   "id": "d8d3d2aa-b1ac-45ad-849e-e667b233e49f",
   "metadata": {},
   "outputs": [],
   "source": [
    "from crewai_tools import SerperDevTool,\\\n",
    "                         ScrapeWebsiteTool,\\\n",
    "                         WebsiteSearchTool"
   ]
  },
  {
   "cell_type": "code",
   "execution_count": null,
   "id": "603b0ba8-fe43-450f-af9d-1f4ed7ba1ee4",
   "metadata": {},
   "outputs": [],
   "source": [
    "docs_scrape_tool = ScrapeWebsiteTool(\n",
    "    website_url = \"https://docs.crewai.com/how-to/Creating-a-Crew-and-kick-it-off/\"\n",
    ")"
   ]
  },
  {
   "cell_type": "code",
   "execution_count": null,
   "id": "53b88a14-4a59-497a-a696-cec14d212c6d",
   "metadata": {},
   "outputs": [],
   "source": [
    "support_agent = Agent(\n",
    "    role=\"Senior Support Representative\",\n",
    "    goal=\"Be the most friendly and helpful \"\n",
    "        \"support representative in your team\",\n",
    "    backstory=(\n",
    "        \"You work at crewAI (https://crewai.com) and \"\n",
    "        \" are now working on providing \"\n",
    "\t\t\"support to {customer}, a super important customer \"\n",
    "        \" for your company.\"\n",
    "\t\t\"You need to make sure that you provide the best support!\"\n",
    "\t\t\"Make sure to provide full complete answers, \"\n",
    "        \" and make no assumptions.\"\n",
    "    ),\n",
    "    delegate=False,\n",
    "    verbose=False\n",
    ")"
   ]
  },
  {
   "cell_type": "code",
   "execution_count": null,
   "id": "ad5dc6e4-899f-46c2-a552-bb1f78707d4e",
   "metadata": {},
   "outputs": [],
   "source": [
    "inquiry_resolution = Task(\n",
    "    description=(\n",
    "        \"{customer} just reached out with a super important ask:\\n\"\n",
    "\t    \"{inquiry}\\n\\n\"\n",
    "        \"{person} from {customer} is the one that reached out. \"\n",
    "\t\t\"Make sure to use everything you know \"\n",
    "        \"to provide the best support possible.\"\n",
    "\t\t\"You must strive to provide a complete \"\n",
    "        \"and accurate response to the customer's inquiry.\"\n",
    "    ),\n",
    "    expected_output=(\n",
    "\t    \"A detailed, informative response to the \"\n",
    "        \"customer's inquiry that addresses \"\n",
    "        \"all aspects of their question.\\n\"\n",
    "        \"The response should include references \"\n",
    "        \"to everything you used to find the answer, \"\n",
    "        \"including external data or solutions. \"\n",
    "        \"Ensure the answer is complete, \"\n",
    "\t\t\"leaving no questions unanswered, and maintain a helpful and friendly \"\n",
    "\t\t\"tone throughout.\"\n",
    "    ),\n",
    "\ttools=[docs_scrape_tool],\n",
    "    agent=support_agent,\n",
    ")"
   ]
  },
  {
   "cell_type": "code",
   "execution_count": null,
   "id": "7e5d06c9-436b-464a-a9af-fef7a8731589",
   "metadata": {},
   "outputs": [],
   "source": [
    "crew = Crew(\n",
    "    agents=[support_agent],\n",
    "    tasks=[inquiry_resolution],\n",
    "    verbose=False,\n",
    "    memory=True\n",
    ")"
   ]
  },
  {
   "cell_type": "code",
   "execution_count": null,
   "id": "93c86081-43be-4922-a684-9a9b5058e4cd",
   "metadata": {},
   "outputs": [],
   "source": [
    "inputs = {\n",
    "    \"customer\": \"DeepLearningAI\",\n",
    "    \"person\": \"Andrew Ng\",\n",
    "    \"inquiry\": \"I need help with setting up a Crew \"\n",
    "               \"and kicking it off, specifically \"\n",
    "               \"how can I add memory to my crew? \"\n",
    "               \"Can you provide guidance?\"\n",
    "}\n",
    "result = crew.kickoff(inputs=inputs)"
   ]
  },
  {
   "cell_type": "code",
   "execution_count": null,
   "id": "0a45250e-39b4-4522-a47f-58a942969448",
   "metadata": {},
   "outputs": [],
   "source": [
    "from IPython.display import Markdown\n",
    "Markdown(result)"
   ]
  }
 ],
 "metadata": {
  "kernelspec": {
   "display_name": "Python 3 (ipykernel)",
   "language": "python",
   "name": "python3"
  },
  "language_info": {
   "codemirror_mode": {
    "name": "ipython",
    "version": 3
   },
   "file_extension": ".py",
   "mimetype": "text/x-python",
   "name": "python",
   "nbconvert_exporter": "python",
   "pygments_lexer": "ipython3",
   "version": "3.12.0"
  }
 },
 "nbformat": 4,
 "nbformat_minor": 5
}
