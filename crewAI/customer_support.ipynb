{
 "cells": [
  {
   "cell_type": "code",
   "execution_count": 1,
   "id": "e6effb38-e11b-4b8c-a79c-d01b38a0a255",
   "metadata": {},
   "outputs": [],
   "source": [
    "import warnings\n",
    "warnings.filterwarnings('ignore')"
   ]
  },
  {
   "cell_type": "code",
   "execution_count": 2,
   "id": "be9cb333-59e5-4038-af56-3a5f747ee6d4",
   "metadata": {},
   "outputs": [],
   "source": [
    "from crewai import Agent, Task, Crew"
   ]
  },
  {
   "cell_type": "code",
   "execution_count": 3,
   "id": "0596f0ca-463d-4818-89fd-6c540073481d",
   "metadata": {},
   "outputs": [],
   "source": [
    "import os"
   ]
  },
  {
   "cell_type": "code",
   "execution_count": 4,
   "id": "30d788ca-deec-4669-a7dd-3d147d19c93d",
   "metadata": {},
   "outputs": [],
   "source": [
    "from dotenv import load_dotenv\n",
    "load_dotenv(override=True)\n",
    "api_key = os.getenv('OPENAI_API_KEY')"
   ]
  },
  {
   "cell_type": "code",
   "execution_count": 6,
   "id": "d8d3d2aa-b1ac-45ad-849e-e667b233e49f",
   "metadata": {},
   "outputs": [],
   "source": [
    "from crewai_tools import SerperDevTool,\\\n",
    "                         ScrapeWebsiteTool,\\\n",
    "                         WebsiteSearchTool"
   ]
  },
  {
   "cell_type": "code",
   "execution_count": 7,
   "id": "603b0ba8-fe43-450f-af9d-1f4ed7ba1ee4",
   "metadata": {},
   "outputs": [],
   "source": [
    "docs_scrape_tool = ScrapeWebsiteTool(\n",
    "    website_url = \"https://docs.crewai.com/how-to/Creating-a-Crew-and-kick-it-off/\"\n",
    ")"
   ]
  },
  {
   "cell_type": "code",
   "execution_count": 8,
   "id": "53b88a14-4a59-497a-a696-cec14d212c6d",
   "metadata": {},
   "outputs": [],
   "source": [
    "support_agent = Agent(\n",
    "    role=\"Senior Support Representative\",\n",
    "    goal=\"Be the most friendly and helpful \"\n",
    "        \"support representative in your team\",\n",
    "    backstory=(\n",
    "        \"You work at crewAI (https://crewai.com) and \"\n",
    "        \" are now working on providing \"\n",
    "\t\t\"support to {customer}, a super important customer \"\n",
    "        \" for your company.\"\n",
    "\t\t\"You need to make sure that you provide the best support!\"\n",
    "\t\t\"Make sure to provide full complete answers, \"\n",
    "        \" and make no assumptions.\"\n",
    "    ),\n",
    "    delegate=False,\n",
    "    verbose=False\n",
    ")"
   ]
  },
  {
   "cell_type": "code",
   "execution_count": 9,
   "id": "ad5dc6e4-899f-46c2-a552-bb1f78707d4e",
   "metadata": {},
   "outputs": [],
   "source": [
    "inquiry_resolution = Task(\n",
    "    description=(\n",
    "        \"{customer} just reached out with a super important ask:\\n\"\n",
    "\t    \"{inquiry}\\n\\n\"\n",
    "        \"{person} from {customer} is the one that reached out. \"\n",
    "\t\t\"Make sure to use everything you know \"\n",
    "        \"to provide the best support possible.\"\n",
    "\t\t\"You must strive to provide a complete \"\n",
    "        \"and accurate response to the customer's inquiry.\"\n",
    "    ),\n",
    "    expected_output=(\n",
    "\t    \"A detailed, informative response to the \"\n",
    "        \"customer's inquiry that addresses \"\n",
    "        \"all aspects of their question.\\n\"\n",
    "        \"The response should include references \"\n",
    "        \"to everything you used to find the answer, \"\n",
    "        \"including external data or solutions. \"\n",
    "        \"Ensure the answer is complete, \"\n",
    "\t\t\"leaving no questions unanswered, and maintain a helpful and friendly \"\n",
    "\t\t\"tone throughout.\"\n",
    "    ),\n",
    "\ttools=[docs_scrape_tool],\n",
    "    agent=support_agent,\n",
    ")"
   ]
  },
  {
   "cell_type": "code",
   "execution_count": 10,
   "id": "7e5d06c9-436b-464a-a9af-fef7a8731589",
   "metadata": {},
   "outputs": [],
   "source": [
    "crew = Crew(\n",
    "    agents=[support_agent],\n",
    "    tasks=[inquiry_resolution],\n",
    "    verbose=False,\n",
    "    memory=True\n",
    ")"
   ]
  },
  {
   "cell_type": "code",
   "execution_count": 11,
   "id": "93c86081-43be-4922-a684-9a9b5058e4cd",
   "metadata": {},
   "outputs": [
    {
     "name": "stderr",
     "output_type": "stream",
     "text": [
      "C:\\AIML\\genAI\\projects\\crewAI\\crewAI\\Lib\\site-packages\\chromadb\\types.py:144: PydanticDeprecatedSince211: Accessing the 'model_fields' attribute on the instance is deprecated. Instead, you should access this attribute from the model class. Deprecated in Pydantic V2.11 to be removed in V3.0.\n",
      "  return self.model_fields  # pydantic 2.x\n",
      "C:\\AIML\\genAI\\projects\\crewAI\\crewAI\\Lib\\site-packages\\chromadb\\types.py:144: PydanticDeprecatedSince211: Accessing the 'model_fields' attribute on the instance is deprecated. Instead, you should access this attribute from the model class. Deprecated in Pydantic V2.11 to be removed in V3.0.\n",
      "  return self.model_fields  # pydantic 2.x\n"
     ]
    }
   ],
   "source": [
    "inputs = {\n",
    "    \"customer\": \"DeepLearningAI\",\n",
    "    \"person\": \"Andrew Ng\",\n",
    "    \"inquiry\": \"I need help with setting up a Crew \"\n",
    "               \"and kicking it off, specifically \"\n",
    "               \"how can I add memory to my crew? \"\n",
    "               \"Can you provide guidance?\"\n",
    "}\n",
    "result = crew.kickoff(inputs=inputs)"
   ]
  },
  {
   "cell_type": "code",
   "execution_count": 12,
   "id": "0a45250e-39b4-4522-a47f-58a942969448",
   "metadata": {},
   "outputs": [
    {
     "ename": "TypeError",
     "evalue": "Markdown expects text, not CrewOutput(raw=\"To help DeepLearningAI set up a crew and successfully incorporate memory, here’s a detailed guide:\\n\\n### Understanding Memory in AI\\n\\nIn the context of AI, memory refers to the ability of an agent to retain information from past interactions and experiences. This enhances their performance by enabling them to recall relevant data and provide context-aware responses. Incorporating memory into a CrewAI setup allows your AI agents to operate more intelligently, improving their efficiency and collaboration.\\n\\n### Setting Up a Crew in CrewAI\\n\\n1. **Create a Crew**: Start by creating a crew as your AI team's organizational structure.\\n   \\n2. **Define Roles**: Assign specific roles for each AI agent in your crew, such as researchers or data analysts. This will allow for specialization.\\n\\n3. **Equip Agents with Tools**: Make sure each agent has access to the necessary tools to perform their tasks effectively. This can include APIs or other external services they may need to interact with.\\n\\n4. **Design the Workflow**: Establish a clear workflow to facilitate collaboration. This includes defining how tasks are assigned and completed within the crew.\\n\\n### Step-by-Step Guide to Adding Memory to Your Crew\\n\\n1. **Identify Memory Needs**: Think about what kind of information should be retained. This could include previous tasks, discussions, decisions made, and useful data points.\\n\\n2. **Utilize Built-in Memory Functions**: Check CrewAI’s documentation for memory management features. Understanding these capabilities will help you effectively implement memory into your crew.\\n\\n3. **Implement Memory Management in Workflows**:\\n   - Create processes for agents to save important information.\\n   - Set up mechanisms to retrieve and utilize memory during tasks.\\n\\n4. **Test the Memory Feature**: Before launching your crew, run tests to ensure that agents can successfully store and retrieve memory. This step is crucial for confirming that everything functions as intended.\\n\\n### Additional Resources\\n\\n- For comprehensive guidance on creating and managing a crew, please refer to the [Building Your First Crew](https://docs.crewai.com/how-to/Creating-a-Crew-and-kick-it-off/) tutorial provided by CrewAI.\\n- Engage with the CrewAI community, as it’s a valuable resource for tips and support.\\n- If you encounter any issues or need further assistance, feel free to reach out again!\\n\\nImplementing memory into your AI crew effectively will elevate their collaboration and make them more responsive and efficient. Don’t hesitate to ask if you have more questions or require further clarification!\", pydantic=None, json_dict=None, tasks_output=[TaskOutput(description=\"DeepLearningAI just reached out with a super important ask:\\nI need help with setting up a Crew and kicking it off, specifically how can I add memory to my crew? Can you provide guidance?\\n\\nAndrew Ng from DeepLearningAI is the one that reached out. Make sure to use everything you know to provide the best support possible.You must strive to provide a complete and accurate response to the customer's inquiry.\", name=None, expected_output=\"A detailed, informative response to the customer's inquiry that addresses all aspects of their question.\\nThe response should include references to everything you used to find the answer, including external data or solutions. Ensure the answer is complete, leaving no questions unanswered, and maintain a helpful and friendly tone throughout.\", summary='DeepLearningAI just reached out with a super important ask:\\nI need...', raw=\"To help DeepLearningAI set up a crew and successfully incorporate memory, here’s a detailed guide:\\n\\n### Understanding Memory in AI\\n\\nIn the context of AI, memory refers to the ability of an agent to retain information from past interactions and experiences. This enhances their performance by enabling them to recall relevant data and provide context-aware responses. Incorporating memory into a CrewAI setup allows your AI agents to operate more intelligently, improving their efficiency and collaboration.\\n\\n### Setting Up a Crew in CrewAI\\n\\n1. **Create a Crew**: Start by creating a crew as your AI team's organizational structure.\\n   \\n2. **Define Roles**: Assign specific roles for each AI agent in your crew, such as researchers or data analysts. This will allow for specialization.\\n\\n3. **Equip Agents with Tools**: Make sure each agent has access to the necessary tools to perform their tasks effectively. This can include APIs or other external services they may need to interact with.\\n\\n4. **Design the Workflow**: Establish a clear workflow to facilitate collaboration. This includes defining how tasks are assigned and completed within the crew.\\n\\n### Step-by-Step Guide to Adding Memory to Your Crew\\n\\n1. **Identify Memory Needs**: Think about what kind of information should be retained. This could include previous tasks, discussions, decisions made, and useful data points.\\n\\n2. **Utilize Built-in Memory Functions**: Check CrewAI’s documentation for memory management features. Understanding these capabilities will help you effectively implement memory into your crew.\\n\\n3. **Implement Memory Management in Workflows**:\\n   - Create processes for agents to save important information.\\n   - Set up mechanisms to retrieve and utilize memory during tasks.\\n\\n4. **Test the Memory Feature**: Before launching your crew, run tests to ensure that agents can successfully store and retrieve memory. This step is crucial for confirming that everything functions as intended.\\n\\n### Additional Resources\\n\\n- For comprehensive guidance on creating and managing a crew, please refer to the [Building Your First Crew](https://docs.crewai.com/how-to/Creating-a-Crew-and-kick-it-off/) tutorial provided by CrewAI.\\n- Engage with the CrewAI community, as it’s a valuable resource for tips and support.\\n- If you encounter any issues or need further assistance, feel free to reach out again!\\n\\nImplementing memory into your AI crew effectively will elevate their collaboration and make them more responsive and efficient. Don’t hesitate to ask if you have more questions or require further clarification!\", pydantic=None, json_dict=None, agent='Senior Support Representative', output_format=<OutputFormat.RAW: 'raw'>)], token_usage=UsageMetrics(total_tokens=5680, prompt_tokens=5141, cached_prompt_tokens=1152, completion_tokens=539, successful_requests=2))",
     "output_type": "error",
     "traceback": [
      "\u001b[31m---------------------------------------------------------------------------\u001b[39m",
      "\u001b[31mTypeError\u001b[39m                                 Traceback (most recent call last)",
      "\u001b[36mCell\u001b[39m\u001b[36m \u001b[39m\u001b[32mIn[12]\u001b[39m\u001b[32m, line 2\u001b[39m\n\u001b[32m      1\u001b[39m \u001b[38;5;28;01mfrom\u001b[39;00m\u001b[38;5;250m \u001b[39m\u001b[34;01mIPython\u001b[39;00m\u001b[34;01m.\u001b[39;00m\u001b[34;01mdisplay\u001b[39;00m\u001b[38;5;250m \u001b[39m\u001b[38;5;28;01mimport\u001b[39;00m Markdown\n\u001b[32m----> \u001b[39m\u001b[32m2\u001b[39m \u001b[43mMarkdown\u001b[49m\u001b[43m(\u001b[49m\u001b[43mresult\u001b[49m\u001b[43m)\u001b[49m\n",
      "\u001b[36mFile \u001b[39m\u001b[32mC:\\AIML\\genAI\\projects\\crewAI\\crewAI\\Lib\\site-packages\\IPython\\core\\display.py:344\u001b[39m, in \u001b[36mDisplayObject.__init__\u001b[39m\u001b[34m(self, data, url, filename, metadata)\u001b[39m\n\u001b[32m    341\u001b[39m     \u001b[38;5;28mself\u001b[39m.metadata = {}\n\u001b[32m    343\u001b[39m \u001b[38;5;28mself\u001b[39m.reload()\n\u001b[32m--> \u001b[39m\u001b[32m344\u001b[39m \u001b[38;5;28;43mself\u001b[39;49m\u001b[43m.\u001b[49m\u001b[43m_check_data\u001b[49m\u001b[43m(\u001b[49m\u001b[43m)\u001b[49m\n",
      "\u001b[36mFile \u001b[39m\u001b[32mC:\\AIML\\genAI\\projects\\crewAI\\crewAI\\Lib\\site-packages\\IPython\\core\\display.py:423\u001b[39m, in \u001b[36mTextDisplayObject._check_data\u001b[39m\u001b[34m(self)\u001b[39m\n\u001b[32m    421\u001b[39m \u001b[38;5;28;01mdef\u001b[39;00m\u001b[38;5;250m \u001b[39m\u001b[34m_check_data\u001b[39m(\u001b[38;5;28mself\u001b[39m):\n\u001b[32m    422\u001b[39m     \u001b[38;5;28;01mif\u001b[39;00m \u001b[38;5;28mself\u001b[39m.data \u001b[38;5;129;01mis\u001b[39;00m \u001b[38;5;129;01mnot\u001b[39;00m \u001b[38;5;28;01mNone\u001b[39;00m \u001b[38;5;129;01mand\u001b[39;00m \u001b[38;5;129;01mnot\u001b[39;00m \u001b[38;5;28misinstance\u001b[39m(\u001b[38;5;28mself\u001b[39m.data, \u001b[38;5;28mstr\u001b[39m):\n\u001b[32m--> \u001b[39m\u001b[32m423\u001b[39m         \u001b[38;5;28;01mraise\u001b[39;00m \u001b[38;5;167;01mTypeError\u001b[39;00m(\u001b[33m\"\u001b[39m\u001b[38;5;132;01m%s\u001b[39;00m\u001b[33m expects text, not \u001b[39m\u001b[38;5;132;01m%r\u001b[39;00m\u001b[33m\"\u001b[39m % (\u001b[38;5;28mself\u001b[39m.\u001b[34m__class__\u001b[39m.\u001b[34m__name__\u001b[39m, \u001b[38;5;28mself\u001b[39m.data))\n",
      "\u001b[31mTypeError\u001b[39m: Markdown expects text, not CrewOutput(raw=\"To help DeepLearningAI set up a crew and successfully incorporate memory, here’s a detailed guide:\\n\\n### Understanding Memory in AI\\n\\nIn the context of AI, memory refers to the ability of an agent to retain information from past interactions and experiences. This enhances their performance by enabling them to recall relevant data and provide context-aware responses. Incorporating memory into a CrewAI setup allows your AI agents to operate more intelligently, improving their efficiency and collaboration.\\n\\n### Setting Up a Crew in CrewAI\\n\\n1. **Create a Crew**: Start by creating a crew as your AI team's organizational structure.\\n   \\n2. **Define Roles**: Assign specific roles for each AI agent in your crew, such as researchers or data analysts. This will allow for specialization.\\n\\n3. **Equip Agents with Tools**: Make sure each agent has access to the necessary tools to perform their tasks effectively. This can include APIs or other external services they may need to interact with.\\n\\n4. **Design the Workflow**: Establish a clear workflow to facilitate collaboration. This includes defining how tasks are assigned and completed within the crew.\\n\\n### Step-by-Step Guide to Adding Memory to Your Crew\\n\\n1. **Identify Memory Needs**: Think about what kind of information should be retained. This could include previous tasks, discussions, decisions made, and useful data points.\\n\\n2. **Utilize Built-in Memory Functions**: Check CrewAI’s documentation for memory management features. Understanding these capabilities will help you effectively implement memory into your crew.\\n\\n3. **Implement Memory Management in Workflows**:\\n   - Create processes for agents to save important information.\\n   - Set up mechanisms to retrieve and utilize memory during tasks.\\n\\n4. **Test the Memory Feature**: Before launching your crew, run tests to ensure that agents can successfully store and retrieve memory. This step is crucial for confirming that everything functions as intended.\\n\\n### Additional Resources\\n\\n- For comprehensive guidance on creating and managing a crew, please refer to the [Building Your First Crew](https://docs.crewai.com/how-to/Creating-a-Crew-and-kick-it-off/) tutorial provided by CrewAI.\\n- Engage with the CrewAI community, as it’s a valuable resource for tips and support.\\n- If you encounter any issues or need further assistance, feel free to reach out again!\\n\\nImplementing memory into your AI crew effectively will elevate their collaboration and make them more responsive and efficient. Don’t hesitate to ask if you have more questions or require further clarification!\", pydantic=None, json_dict=None, tasks_output=[TaskOutput(description=\"DeepLearningAI just reached out with a super important ask:\\nI need help with setting up a Crew and kicking it off, specifically how can I add memory to my crew? Can you provide guidance?\\n\\nAndrew Ng from DeepLearningAI is the one that reached out. Make sure to use everything you know to provide the best support possible.You must strive to provide a complete and accurate response to the customer's inquiry.\", name=None, expected_output=\"A detailed, informative response to the customer's inquiry that addresses all aspects of their question.\\nThe response should include references to everything you used to find the answer, including external data or solutions. Ensure the answer is complete, leaving no questions unanswered, and maintain a helpful and friendly tone throughout.\", summary='DeepLearningAI just reached out with a super important ask:\\nI need...', raw=\"To help DeepLearningAI set up a crew and successfully incorporate memory, here’s a detailed guide:\\n\\n### Understanding Memory in AI\\n\\nIn the context of AI, memory refers to the ability of an agent to retain information from past interactions and experiences. This enhances their performance by enabling them to recall relevant data and provide context-aware responses. Incorporating memory into a CrewAI setup allows your AI agents to operate more intelligently, improving their efficiency and collaboration.\\n\\n### Setting Up a Crew in CrewAI\\n\\n1. **Create a Crew**: Start by creating a crew as your AI team's organizational structure.\\n   \\n2. **Define Roles**: Assign specific roles for each AI agent in your crew, such as researchers or data analysts. This will allow for specialization.\\n\\n3. **Equip Agents with Tools**: Make sure each agent has access to the necessary tools to perform their tasks effectively. This can include APIs or other external services they may need to interact with.\\n\\n4. **Design the Workflow**: Establish a clear workflow to facilitate collaboration. This includes defining how tasks are assigned and completed within the crew.\\n\\n### Step-by-Step Guide to Adding Memory to Your Crew\\n\\n1. **Identify Memory Needs**: Think about what kind of information should be retained. This could include previous tasks, discussions, decisions made, and useful data points.\\n\\n2. **Utilize Built-in Memory Functions**: Check CrewAI’s documentation for memory management features. Understanding these capabilities will help you effectively implement memory into your crew.\\n\\n3. **Implement Memory Management in Workflows**:\\n   - Create processes for agents to save important information.\\n   - Set up mechanisms to retrieve and utilize memory during tasks.\\n\\n4. **Test the Memory Feature**: Before launching your crew, run tests to ensure that agents can successfully store and retrieve memory. This step is crucial for confirming that everything functions as intended.\\n\\n### Additional Resources\\n\\n- For comprehensive guidance on creating and managing a crew, please refer to the [Building Your First Crew](https://docs.crewai.com/how-to/Creating-a-Crew-and-kick-it-off/) tutorial provided by CrewAI.\\n- Engage with the CrewAI community, as it’s a valuable resource for tips and support.\\n- If you encounter any issues or need further assistance, feel free to reach out again!\\n\\nImplementing memory into your AI crew effectively will elevate their collaboration and make them more responsive and efficient. Don’t hesitate to ask if you have more questions or require further clarification!\", pydantic=None, json_dict=None, agent='Senior Support Representative', output_format=<OutputFormat.RAW: 'raw'>)], token_usage=UsageMetrics(total_tokens=5680, prompt_tokens=5141, cached_prompt_tokens=1152, completion_tokens=539, successful_requests=2))"
     ]
    }
   ],
   "source": [
    "from IPython.display import Markdown\n",
    "Markdown(result)"
   ]
  }
 ],
 "metadata": {
  "kernelspec": {
   "display_name": "Python 3 (ipykernel)",
   "language": "python",
   "name": "python3"
  },
  "language_info": {
   "codemirror_mode": {
    "name": "ipython",
    "version": 3
   },
   "file_extension": ".py",
   "mimetype": "text/x-python",
   "name": "python",
   "nbconvert_exporter": "python",
   "pygments_lexer": "ipython3",
   "version": "3.12.0"
  }
 },
 "nbformat": 4,
 "nbformat_minor": 5
}
